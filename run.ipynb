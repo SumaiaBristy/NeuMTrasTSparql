{
 "cells": [
  {
   "cell_type": "markdown",
   "metadata": {},
   "source": [
    "# Necessary imports"
   ]
  },
  {
   "cell_type": "code",
   "execution_count": null,
   "metadata": {},
   "outputs": [],
   "source": [
    "import keras\n",
    "import numpy as np\n",
    "import random\n",
    "from preprocessing import load_vectors, preprocess_sentence, preprocess_sparql\n",
    "from keras import metrics\n",
    "from keras.models import Model\n",
    "from keras.layers import Input, LSTM, Dense, Embedding, Bidirectional\n",
    "from keras.optimizers import RMSprop\n",
    "from keras.initializers import Orthogonal\n",
    "import fastText\n"
   ]
  },
  {
   "cell_type": "markdown",
   "metadata": {},
   "source": [
    "# Read English and SPARQL files\n",
    "\n",
    "- input English sentences\n",
    "- pre-trained English word vectors\n",
    "- target SPARQL queries\n"
   ]
  },
  {
   "cell_type": "code",
   "execution_count": null,
   "metadata": {},
   "outputs": [],
   "source": [
    "# Files Reading\n",
    "file_input_en = \"data/qald-7-train-largescale.en\"\n",
    "file_input_en_vectors = \"data/wiki.en.bin\"\n",
    "file_target_sparql = \"data/qald-7-train-largescale.sparql\"\n",
    "\n",
    "sos_symbol = '<s>'\n",
    "eos_symbol = '</s>'"
   ]
  },
  {
   "cell_type": "markdown",
   "metadata": {},
   "source": [
    "# Preprocess the English sentences and load the vectors for both input and output(target)\n",
    "- deal with word boundaries\n",
    "- deal with starting and ending symbols (*unsettled*)"
   ]
  },
  {
   "cell_type": "code",
   "execution_count": null,
   "metadata": {},
   "outputs": [],
   "source": [
    "input_texts = []\n",
    "with open(file_input_en) as file:\n",
    "    for line in file:\n",
    "        input_texts.append(preprocess_sentence(line))\n",
    "    \n",
    "target_texts = []\n",
    "with open(file_target_sparql) as file:\n",
    "    for line in file:\n",
    "        target_texts.append(preprocess_sparql(line))\n",
    "\n",
    "input_vectors = fastText.load_model(file_input_en_vectors) # Use fastText to load fastText vector models\n",
    "\n"
   ]
  },
  {
   "cell_type": "code",
   "execution_count": null,
   "metadata": {},
   "outputs": [],
   "source": [
    "input_vocabulary = input_vectors.get_words()\n",
    "output_vocabulary = set()\n",
    "\n",
    "for target_text in target_texts:\n",
    "    output_vocabulary.update(target_text.split())\n",
    "\n",
    "encoder_vocab_size = len(input_vocabulary)\n",
    "decoder_vocab_size = len(output_vocabulary)"
   ]
  },
  {
   "cell_type": "markdown",
   "metadata": {},
   "source": [
    "# Declare Parameters for the model"
   ]
  },
  {
   "cell_type": "code",
   "execution_count": null,
   "metadata": {},
   "outputs": [],
   "source": [
    "# Parameters\n",
    "batch_size = 1\n",
    "epochs = 100\n",
    "dropout = 0.2\n",
    "num_samples = len(input_texts)\n",
    "encoder_embedding_size = input_vectors.get_dimension()\n",
    "decoder_embedding_size = 300\n",
    "hidden_units = 128"
   ]
  },
  {
   "cell_type": "markdown",
   "metadata": {},
   "source": [
    "# Define the model"
   ]
  },
  {
   "cell_type": "code",
   "execution_count": null,
   "metadata": {},
   "outputs": [],
   "source": [
    "# Model definition\n",
    "# Encoder\n",
    "encoder_inputs = Input(shape=(None, encoder_embedding_size))\n",
    "# encoder_embedding = Embedding(num_input_words+1, embedding_size, weights=[embedding_matrix], trainable=False)(encoder_inputs)\n",
    "encoder = LSTM(hidden_units, return_state=True, dropout=dropout, recurrent_dropout=dropout, kernel_initializer=Orthogonal(), recurrent_regularizer=keras.regularizers.l2())\n",
    "_, state_hidden, state_cell = encoder(encoder_inputs)\n",
    "encoder_states = [state_hidden, state_cell]\n",
    "\n",
    "# Decoder\n",
    "decoder_inputs = Input(shape=(None,))\n",
    "decoder_embedding = Embedding(decoder_vocab_size, decoder_embedding_size)(decoder_inputs)\n",
    "decoder_lstm = LSTM(hidden_units, return_sequences=True, return_state=True, dropout=dropout, recurrent_dropout=dropout, kernel_initializer=Orthogonal(), recurrent_regularizer=keras.regularizers.l2())\n",
    "decoder_outputs, _, _ = decoder_lstm(decoder_embedding, initial_state=encoder_states)\n",
    "decoder_dense = Dense(decoder_vocab_size, activation='softmax')\n",
    "decoder_outputs = decoder_dense(decoder_outputs)\n",
    "\n",
    "model = Model([encoder_inputs, decoder_inputs], decoder_outputs)\n"
   ]
  },
  {
   "cell_type": "markdown",
   "metadata": {},
   "source": [
    "# Initializing input data and target data"
   ]
  },
  {
   "cell_type": "code",
   "execution_count": null,
   "metadata": {},
   "outputs": [],
   "source": [
    "\n",
    "# Data declaration\n",
    "max_encoder_seq_length = max([len(text.split()) for text in input_texts])\n",
    "max_decoder_seq_length = max([len(text.split()) for text in target_texts])\n",
    "\n",
    "print(\"Number of samples:\", num_samples)\n",
    "print(\"Number of unique input words:\", encoder_vocab_size)\n",
    "print(\"Number of unique output words:\", decoder_vocab_size)\n",
    "print(\"Max sequenc length for inputs:\", max_encoder_seq_length)\n",
    "print(\"Max sequenc length for outputs:\", max_decoder_seq_length)\n",
    "\n",
    "input_word_index = dict([(word, i) for i, word in enumerate(input_vocabulary)])\n",
    "target_word_index = dict([(word, i) for i, word in enumerate(output_vocabulary)])\n",
    "\n",
    "# Setting up encoder input data \n",
    "encoder_input_data = np.zeros((len(input_texts), max_encoder_seq_length, encoder_embedding_size), dtype='float32')\n",
    "\n",
    "# len(input_texts) == len(target_texts) because they exist as feature-label pairs\n",
    "decoder_input_data = np.zeros((len(input_texts), max_decoder_seq_length), dtype='float32')\n",
    "\n",
    "decoder_target_data = np.zeros((len(input_texts), max_decoder_seq_length, decoder_vocab_size), dtype='float32')\n",
    "\n",
    "for i, (input_text, target_text) in enumerate(zip(input_texts, target_texts)):\n",
    "    # Feed word embeddings into encoder as input\n",
    "    for t, word in enumerate(input_text.split()):\n",
    "        word_vector = input_vectors.get_word_vector(word.lower())\n",
    "        for j in range(encoder_embedding_size):\n",
    "            encoder_input_data[i, t, j] = word_vector[j]\n",
    "    # Feed word indexes into decoder as input,\n",
    "    # one-hot vectors as decoder target\n",
    "    for t, word in enumerate(target_text.split()):\n",
    "        decoder_input_data[i, t] = target_word_index[word]\n",
    "        if t > 0:\n",
    "            decoder_target_data[i, t-1, target_word_index[word]] = 1."
   ]
  },
  {
   "cell_type": "markdown",
   "metadata": {},
   "source": [
    "# Configure the model and train the model"
   ]
  },
  {
   "cell_type": "markdown",
   "metadata": {},
   "source": [
    "tb_callback = keras.callbacks.TensorBoard()\n",
    "\n",
    "\n",
    "- configure the model with optimizer and loss function"
   ]
  },
  {
   "cell_type": "code",
   "execution_count": null,
   "metadata": {},
   "outputs": [],
   "source": [
    "my_optimizer = RMSprop(lr=0.001)\n",
    "\n",
    "model.compile(optimizer=my_optimizer, loss=keras.losses.categorical_crossentropy, metrics=[metrics.categorical_accuracy])"
   ]
  },
  {
   "cell_type": "markdown",
   "metadata": {},
   "source": [
    "- train the model:"
   ]
  },
  {
   "cell_type": "code",
   "execution_count": null,
   "metadata": {},
   "outputs": [],
   "source": [
    "\n",
    "history = model.fit([encoder_input_data, decoder_input_data], decoder_target_data, \n",
    "    batch_size=batch_size, epochs=epochs, validation_split=0.2, shuffle=True\n",
    ")\n",
    "\n"
   ]
  },
  {
   "cell_type": "markdown",
   "metadata": {},
   "source": [
    "# Visualize the training loss and save the model\n",
    "\n",
    "- plot the training loss and validation loss along with epochs"
   ]
  },
  {
   "cell_type": "code",
   "execution_count": null,
   "metadata": {},
   "outputs": [],
   "source": [
    "from matplotlib import pyplot\n",
    "\n",
    "pyplot.plot(history.history['loss'])\n",
    "pyplot.plot(history.history['val_loss'])\n",
    "pyplot.title('model train vs validation loss')\n",
    "pyplot.ylabel('loss')\n",
    "pyplot.xlabel('epoch')\n",
    "pyplot.legend(['train', 'validation'], loc='upper right')\n",
    "pyplot.show()"
   ]
  },
  {
   "cell_type": "markdown",
   "metadata": {},
   "source": [
    "- plot the model into an image\n",
    "- save the model"
   ]
  },
  {
   "cell_type": "code",
   "execution_count": null,
   "metadata": {},
   "outputs": [],
   "source": [
    "from keras.utils import plot_model\n",
    "\n",
    "plot_model(model, to_file='output/model.png')\n",
    "\n",
    "model.save('output/seq2seq.h5')"
   ]
  },
  {
   "cell_type": "markdown",
   "metadata": {},
   "source": [
    "# Inference mode\n",
    "Input some sentence into the encoder, and decode the output sequence"
   ]
  },
  {
   "cell_type": "code",
   "execution_count": null,
   "metadata": {},
   "outputs": [],
   "source": [
    "# Inference\n",
    "\n",
    "encoder_model = Model(encoder_inputs, encoder_states)\n",
    "decoder_state_input_hidden = Input(shape=(hidden_units,))\n",
    "decoder_state_input_cell = Input(shape=(hidden_units,))\n",
    "decoder_states_inputs = [decoder_state_input_hidden, decoder_state_input_cell]\n",
    "\n",
    "decoder_outputs, state_hidden, state_cell = decoder_lstm(decoder_embedding, initial_state=decoder_states_inputs)\n",
    "decoder_states = [state_hidden, state_cell]\n",
    "decoder_outputs = decoder_dense(decoder_outputs)\n",
    "decoder_model = Model(\n",
    "    [decoder_inputs] + decoder_states_inputs,\n",
    "    [decoder_outputs] + decoder_states\n",
    ")\n",
    "\n",
    "reverse_input_word_index = dict((i, char) for char, i in input_word_index.items())\n",
    "reverse_target_word_index = dict((i, char) for char, i in target_word_index.items())\n"
   ]
  },
  {
   "cell_type": "code",
   "execution_count": null,
   "metadata": {},
   "outputs": [],
   "source": [
    "def decode_sequence(input_seq):\n",
    "    states_value = encoder_model.predict(input_seq)\n",
    "    target_seq = np.zeros((1,))\n",
    "    target_seq[0] = target_word_index[sos_symbol]\n",
    "\n",
    "    stop_condition = False\n",
    "    decoded_sentence = []\n",
    "    while not stop_condition:\n",
    "        decoder_output, h, c = decoder_model.predict([target_seq] + states_value)\n",
    "\n",
    "        sampled_word_index = np.argmax(decoder_output[0, -1, :])\n",
    "        sampled_word = reverse_target_word_index[sampled_word_index]\n",
    "\n",
    "        if sampled_word == eos_symbol or len(decoded_sentence) > max_decoder_seq_length:\n",
    "            stop_condition = True\n",
    "        else:\n",
    "            decoded_sentence.append(sampled_word)\n",
    "\n",
    "        target_seq = np.zeros((1,))\n",
    "        target_seq[0] = sampled_word_index\n",
    "\n",
    "        states_value = [h, c]\n",
    "\n",
    "    return decoded_sentence\n"
   ]
  },
  {
   "cell_type": "code",
   "execution_count": null,
   "metadata": {},
   "outputs": [],
   "source": [
    "\n",
    "# Try out decoding sentences from training set\n",
    "# because we train on training set, the result should be good\n",
    "for seq_index in random.sample(range(num_samples), 10):\n",
    "    input_seq = encoder_input_data[seq_index:seq_index+1]\n",
    "    decoded_sentence = decode_sequence(input_seq)\n",
    "    print('-', str(seq_index)+'th:' )\n",
    "    print('Input sentence:', input_texts[seq_index])\n",
    "    print('Decoded sentence:', *decoded_sentence)\n",
    "    print('Decoded sentence length:', len(decoded_sentence))\n",
    "    print('Target sentence:', target_texts[seq_index])\n",
    "    print('Target sentence length:', len(target_texts[seq_index].split()))"
   ]
  },
  {
   "cell_type": "code",
   "execution_count": null,
   "metadata": {},
   "outputs": [],
   "source": []
  }
 ],
 "metadata": {
  "kernelspec": {
   "display_name": "Python 3",
   "language": "python",
   "name": "python3"
  },
  "language_info": {
   "codemirror_mode": {
    "name": "ipython",
    "version": 3
   },
   "file_extension": ".py",
   "mimetype": "text/x-python",
   "name": "python",
   "nbconvert_exporter": "python",
   "pygments_lexer": "ipython3",
   "version": "3.6.5"
  }
 },
 "nbformat": 4,
 "nbformat_minor": 2
}
